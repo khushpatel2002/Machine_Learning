{
  "cells": [
    {
      "cell_type": "markdown",
      "metadata": {
        "id": "ITN5VfariMhc",
        "tags": []
      },
      "source": [
        "# Sugges_\n",
        "\n",
        "One of the strategies to improve user experience is to provide user with hints, or, otherwise, to autocomplete his queries. Let's consider suggest.\n",
        "\n",
        "Today we will practice generating suggestions using [Trie](https://en.wikipedia.org/wiki/Trie) data structure (prefix tree), see the example below.\n",
        "\n",
        "Plan of your homework:\n",
        "\n",
        "1. Build Trie based on real search query data, provided by AOL company;\n",
        "2. Generate suggestion based on a trie;\n",
        "3. Measure suggestion speed;\n",
        "\n",
        "![image](https://www.ritambhara.in/wp-content/uploads/2017/05/Screen-Shot-2017-05-01-at-4.01.38-PM.png)\n",
        "\n",
        "## 0. Install Trie data structure support\n",
        "\n",
        "You are free to use any library implementation of Trie, as well as the one we suggest (read the docs before asking any questions!): https://github.com/google/pygtrie"
      ]
    },
    {
      "cell_type": "code",
      "execution_count": 45,
      "metadata": {
        "colab": {
          "base_uri": "https://localhost:8080/"
        },
        "id": "a89UKtnPiMhg",
        "outputId": "d75d1537-cfbf-485e-f272-ba780b10c987"
      },
      "outputs": [
        {
          "name": "stdout",
          "output_type": "stream",
          "text": [
            "Requirement already satisfied: pygtrie in .\\env\\lib\\site-packages (2.5.0)\n"
          ]
        },
        {
          "name": "stderr",
          "output_type": "stream",
          "text": [
            "\n",
            "[notice] A new release of pip available: 22.3.1 -> 23.1.2\n",
            "[notice] To update, run: python.exe -m pip install --upgrade pip\n"
          ]
        }
      ],
      "source": [
        "!pip install pygtrie"
      ]
    },
    {
      "cell_type": "markdown",
      "metadata": {
        "id": "LzA4q5x6iMhi"
      },
      "source": [
        "## 1. Build a trie upon a dataset\n",
        "\n",
        "### 1.1. [5] Read the dataset\n",
        "\n",
        "Download the [dataset](https://github.com/IUCVLab/information-retrieval/tree/main/datasets/aol) (we provide only the first part of the original data for simplicity (~3.5 mln queries)).\n",
        "\n",
        "Explore the data, see readme file. Load the dataset. Pass the assert."
      ]
    },
    {
      "cell_type": "code",
      "execution_count": 46,
      "metadata": {
        "colab": {
          "base_uri": "https://localhost:8080/"
        },
        "id": "HQn8xx2Akp-K",
        "outputId": "4d45fe09-8447-4df9-bbaf-adec03830084"
      },
      "outputs": [
        {
          "name": "stderr",
          "output_type": "stream",
          "text": [
            "tar: Error opening archive: Unrecognized archive format\n"
          ]
        }
      ],
      "source": [
        "!tar -xf user-ct-test-collection-01.txt.gz"
      ]
    },
    {
      "cell_type": "code",
      "execution_count": 47,
      "metadata": {
        "colab": {
          "base_uri": "https://localhost:8080/",
          "height": 397
        },
        "id": "1wref8ETiMhj",
        "outputId": "253fd52e-fc81-4488-9a52-e5f085b2ef64"
      },
      "outputs": [],
      "source": [
        "import pandas as pd\n",
        "\n",
        "aol_data = pd.read_csv('user-ct-test-collection-01.txt', sep='\\t')\n",
        "assert aol_data.shape[0] == 3558411, \"Dataset size does not match\""
      ]
    },
    {
      "cell_type": "code",
      "execution_count": 48,
      "metadata": {},
      "outputs": [
        {
          "data": {
            "text/html": [
              "<div>\n",
              "<style scoped>\n",
              "    .dataframe tbody tr th:only-of-type {\n",
              "        vertical-align: middle;\n",
              "    }\n",
              "\n",
              "    .dataframe tbody tr th {\n",
              "        vertical-align: top;\n",
              "    }\n",
              "\n",
              "    .dataframe thead th {\n",
              "        text-align: right;\n",
              "    }\n",
              "</style>\n",
              "<table border=\"1\" class=\"dataframe\">\n",
              "  <thead>\n",
              "    <tr style=\"text-align: right;\">\n",
              "      <th></th>\n",
              "      <th>AnonID</th>\n",
              "      <th>Query</th>\n",
              "      <th>QueryTime</th>\n",
              "      <th>ItemRank</th>\n",
              "      <th>ClickURL</th>\n",
              "    </tr>\n",
              "  </thead>\n",
              "  <tbody>\n",
              "    <tr>\n",
              "      <th>0</th>\n",
              "      <td>142</td>\n",
              "      <td>rentdirect.com</td>\n",
              "      <td>2006-03-01 07:17:12</td>\n",
              "      <td>NaN</td>\n",
              "      <td>NaN</td>\n",
              "    </tr>\n",
              "    <tr>\n",
              "      <th>1</th>\n",
              "      <td>142</td>\n",
              "      <td>www.prescriptionfortime.com</td>\n",
              "      <td>2006-03-12 12:31:06</td>\n",
              "      <td>NaN</td>\n",
              "      <td>NaN</td>\n",
              "    </tr>\n",
              "    <tr>\n",
              "      <th>2</th>\n",
              "      <td>142</td>\n",
              "      <td>staple.com</td>\n",
              "      <td>2006-03-17 21:19:29</td>\n",
              "      <td>NaN</td>\n",
              "      <td>NaN</td>\n",
              "    </tr>\n",
              "    <tr>\n",
              "      <th>3</th>\n",
              "      <td>142</td>\n",
              "      <td>staple.com</td>\n",
              "      <td>2006-03-17 21:19:45</td>\n",
              "      <td>NaN</td>\n",
              "      <td>NaN</td>\n",
              "    </tr>\n",
              "    <tr>\n",
              "      <th>4</th>\n",
              "      <td>142</td>\n",
              "      <td>www.newyorklawyersite.com</td>\n",
              "      <td>2006-03-18 08:02:58</td>\n",
              "      <td>NaN</td>\n",
              "      <td>NaN</td>\n",
              "    </tr>\n",
              "    <tr>\n",
              "      <th>...</th>\n",
              "      <td>...</td>\n",
              "      <td>...</td>\n",
              "      <td>...</td>\n",
              "      <td>...</td>\n",
              "      <td>...</td>\n",
              "    </tr>\n",
              "    <tr>\n",
              "      <th>3558405</th>\n",
              "      <td>24967786</td>\n",
              "      <td>www.giantfoods.com</td>\n",
              "      <td>2006-05-31 09:42:18</td>\n",
              "      <td>NaN</td>\n",
              "      <td>NaN</td>\n",
              "    </tr>\n",
              "    <tr>\n",
              "      <th>3558407</th>\n",
              "      <td>24969251</td>\n",
              "      <td>sp.trafficmarketplace.com</td>\n",
              "      <td>2006-05-31 15:51:23</td>\n",
              "      <td>NaN</td>\n",
              "      <td>NaN</td>\n",
              "    </tr>\n",
              "    <tr>\n",
              "      <th>3558408</th>\n",
              "      <td>24969374</td>\n",
              "      <td>orioles tickets</td>\n",
              "      <td>2006-05-31 12:24:51</td>\n",
              "      <td>NaN</td>\n",
              "      <td>NaN</td>\n",
              "    </tr>\n",
              "    <tr>\n",
              "      <th>3558409</th>\n",
              "      <td>24969374</td>\n",
              "      <td>orioles tickets</td>\n",
              "      <td>2006-05-31 12:31:57</td>\n",
              "      <td>2.0</td>\n",
              "      <td>http://www.greatseats.com</td>\n",
              "    </tr>\n",
              "    <tr>\n",
              "      <th>3558410</th>\n",
              "      <td>24969374</td>\n",
              "      <td>baltimore marinas</td>\n",
              "      <td>2006-05-31 12:43:40</td>\n",
              "      <td>NaN</td>\n",
              "      <td>NaN</td>\n",
              "    </tr>\n",
              "  </tbody>\n",
              "</table>\n",
              "<p>3459247 rows × 5 columns</p>\n",
              "</div>"
            ],
            "text/plain": [
              "           AnonID                        Query            QueryTime  ItemRank   \n",
              "0             142               rentdirect.com  2006-03-01 07:17:12       NaN  \\\n",
              "1             142  www.prescriptionfortime.com  2006-03-12 12:31:06       NaN   \n",
              "2             142                   staple.com  2006-03-17 21:19:29       NaN   \n",
              "3             142                   staple.com  2006-03-17 21:19:45       NaN   \n",
              "4             142    www.newyorklawyersite.com  2006-03-18 08:02:58       NaN   \n",
              "...           ...                          ...                  ...       ...   \n",
              "3558405  24967786           www.giantfoods.com  2006-05-31 09:42:18       NaN   \n",
              "3558407  24969251    sp.trafficmarketplace.com  2006-05-31 15:51:23       NaN   \n",
              "3558408  24969374              orioles tickets  2006-05-31 12:24:51       NaN   \n",
              "3558409  24969374              orioles tickets  2006-05-31 12:31:57       2.0   \n",
              "3558410  24969374            baltimore marinas  2006-05-31 12:43:40       NaN   \n",
              "\n",
              "                          ClickURL  \n",
              "0                              NaN  \n",
              "1                              NaN  \n",
              "2                              NaN  \n",
              "3                              NaN  \n",
              "4                              NaN  \n",
              "...                            ...  \n",
              "3558405                        NaN  \n",
              "3558407                        NaN  \n",
              "3558408                        NaN  \n",
              "3558409  http://www.greatseats.com  \n",
              "3558410                        NaN  \n",
              "\n",
              "[3459247 rows x 5 columns]"
            ]
          },
          "metadata": {},
          "output_type": "display_data"
        }
      ],
      "source": [
        "from IPython.display import display\n",
        "aol_data = aol_data.dropna(subset=['Query'])    \n",
        "aol_data = aol_data.drop(aol_data[aol_data.Query == '-'].index)\n",
        "display(aol_data)"
      ]
    },
    {
      "cell_type": "markdown",
      "metadata": {
        "id": "OtT2BviWiMhk"
      },
      "source": [
        "### 1.2. [10] Build a Trie\n",
        "\n",
        "We want a suggest function to be **non-sensitive to stop words** because we don't want to upset the users if they confuses/omits prepositions. Consider *\"public events in Innopolis\"* vs *\"public events at Innopolis\"* or *\"public events Innopolis\"* - they all mean the same.\n",
        "\n",
        "Build a Trie based on the dataset, **storing query statistics such as query _frequency_, urls and ranks in the nodes**. Some queries may have no associated urls, others may have multiple ranked urls. Think of the way to store this information.\n",
        "\n",
        "Pass the asserts."
      ]
    },
    {
      "cell_type": "code",
      "execution_count": null,
      "metadata": {},
      "outputs": [],
      "source": [
        "import nltk\n",
        "nltk.download('stopwords')\n",
        "stop_words = nltk.corpus.stopwords.words('english')"
      ]
    },
    {
      "cell_type": "code",
      "execution_count": 56,
      "metadata": {},
      "outputs": [],
      "source": [
        "import pygtrie\n",
        "from functools import reduce\n",
        "\n",
        "def remove_stops(query: str) -> str:\n",
        "    return \" \".join([x for x in query.split() if x not in stop_words])\n",
        "\n",
        "def build_trie(data: pd.DataFrame) -> pygtrie.CharTrie:\n",
        "    trie = pygtrie.CharTrie()\n",
        "    for _, row in data.iterrows():\n",
        "        query, rank, url = row['Query'], row[\"ItemRank\"], row[\"ClickURL\"]\n",
        "        \n",
        "        key = remove_stops(query.lower())\n",
        "        \n",
        "        if not trie.has_key(key):\n",
        "            trie[key] = {}\n",
        "\n",
        "        trie[key].setdefault(query, []).append((rank, url))\n",
        "\n",
        "    return trie\n",
        "\n",
        "aol_trie = build_trie(aol_data)"
      ]
    },
    {
      "cell_type": "code",
      "execution_count": 57,
      "metadata": {
        "id": "D0bIDMnNiMhl"
      },
      "outputs": [
        {
          "name": "stdout",
          "output_type": "stream",
          "text": [
            "sample question surveys ~ {'sample question surveys': [(7.0, 'http://www.surveyconnect.com'), (4.0, 'http://www.custominsight.com'), (10.0, 'http://www.askemployees.com'), (1.0, 'http://www.lg-employers.gov.uk'), (nan, nan)]}\n",
            "sample questions immigration interview ~ {'sample questions for immigration interview': [(nan, nan)]}\n",
            "sample questions interview ~ {'sample questions for interview': [(1.0, 'http://www.quintcareers.com')]}\n",
            "sample questions family interview ~ {'sample questions for family interview': [(2.0, 'http://www.grandparents-day.com'), (5.0, 'http://www.quintcareers.com'), (3.0, 'http://jobsearchtech.about.com')]}\n",
            "sample questions sociology race ethnicity ~ {'sample questions sociology race and ethnicity': [(nan, nan)]}\n",
            "sample questions biology ~ {'sample questions biology': [(3.0, 'http://www.utexas.edu'), (6.0, 'http://www.troy.k12.ny.us')]}\n",
            "sample questions us citizenship test ~ {'sample questions for us citizenship test': [(1.0, 'http://uscis.gov')]}\n",
            "sample questionarie teaching evaluation ~ {'sample questionarie teaching evaluation': [(nan, nan)]}\n",
            "sample questionnaire teaching evaluation ~ {'sample questionnaire teaching evaluation': [(1.0, 'http://www.surveyconsole.com'), (2.0, 'http://www.usask.ca'), (6.0, 'http://teaching.berkeley.edu'), (9.0, 'http://www.flinders.edu.au'), (10.0, 'http://oregonstate.edu')]}\n",
            "sample questionnaire clinical research coordinators certification ~ {'sample questionnaire for clinical research coordinators certification': [(9.0, 'http://www.pharmatech.com')]}\n"
          ]
        }
      ],
      "source": [
        "# test trie\n",
        "# print(aol_trie)\n",
        "bag = []\n",
        "for key, val in aol_trie.iteritems(\"sample q\"):\n",
        "    print(key, '~', val)\n",
        "\n",
        "    # NB: here we assume you store urls in a property of list type. But you can do something different.\n",
        "    ranks_urls = [rank_url for ranks_urls in val.values() for rank_url in ranks_urls] \n",
        "    bag += [item[1] for item in ranks_urls]\n",
        "    \n",
        "    assert \"sample question\" in key, \"All examples have `sample question` substring\"\n",
        "    assert key[:len(\"sample question\")] == \"sample question\", \"All examples have `sample question` starting string\"\n",
        "\n",
        "for url in [\"http://www.surveyconnect.com\", \"http://www.custominsight.com\",\n",
        "            \"http://jobsearchtech.about.com\", \"http://www.troy.k12.ny.us\",\n",
        "            \"http://www.flinders.edu.au\", \"http://uscis.gov\"]:\n",
        "    assert url in bag, \"This url should be in a try\"\n"
      ]
    },
    {
      "cell_type": "markdown",
      "metadata": {
        "id": "5VzeulqSiMhm"
      },
      "source": [
        "## 2. [15] Write a suggest function which is non-sensitive to stop words\n",
        "\n",
        "Suggest options for user query based on Trie you just built.\n",
        "Output results sorted by frequency, print query count for each suggestion. If there is an url available, print the url too. If multiple url-s are available, print the one with the highest rank (the less the better).\n",
        "\n",
        "Pass the asserts.\n",
        "\n",
        "Question for analysis: What is the empirical threshold for minimal prefix for suggest?"
      ]
    },
    {
      "cell_type": "code",
      "execution_count": 58,
      "metadata": {
        "id": "JmpUvyFRiMhn"
      },
      "outputs": [],
      "source": [
        "stops = set('a on at of to is from for and with using the in &'.split())"
      ]
    },
    {
      "cell_type": "code",
      "execution_count": 93,
      "metadata": {},
      "outputs": [],
      "source": [
        "from typing import List, Tuple\n",
        "\n",
        "\n",
        "def process_user_query(query:str, trie:pygtrie.CharTrie) -> List[Tuple[str, int, str]]:\n",
        "    key = remove_stops(query.lower())\n",
        "    try:\n",
        "        results = []\n",
        "        for key, queries in trie.iteritems(key):\n",
        "            for query, ranks_urls in queries.items():\n",
        "                if ranks_urls:\n",
        "                    url = max(ranks_urls, key=lambda x: x[0])[1]\n",
        "                else:\n",
        "                    url = None\n",
        "                results.append((query, len(ranks_urls), url))\n",
        "        \n",
        "        results = sorted(results, key=lambda x: -x[1])\n",
        "        return results\n",
        "    except:\n",
        "        return []"
      ]
    },
    {
      "cell_type": "code",
      "execution_count": 96,
      "metadata": {
        "id": "v2KgP87WiMho"
      },
      "outputs": [
        {
          "name": "stdout",
          "output_type": "stream",
          "text": [
            "Query: trie\n",
            "Results:\n",
            "['tried and true tattoo', 'triest', 'triethanalomine', 'tried and failed', 'when you tried and failed']\n"
          ]
        }
      ],
      "source": [
        "from typing import List\n",
        "\n",
        "def complete_user_query(query: str, trie:pygtrie.CharTrie, top_k=5) -> List[str]:\n",
        "\n",
        "    results = []\n",
        "    processed_query = process_user_query(query, trie)\n",
        "    for result in processed_query:\n",
        "        if len(results) == top_k:\n",
        "            break\n",
        "        if result[0] not in results:\n",
        "            results.append(result[0])\n",
        "    return results\n",
        "    \n",
        "inp = \"trie\"\n",
        "print(\"Query:\", inp)\n",
        "print(\"Results:\")\n",
        "res = complete_user_query(inp, aol_trie)\n",
        "print(res)\n",
        "\n",
        "#NB we assume you return suggested query string only\n",
        "assert res[0] == \"tried and true tattoo\"\n",
        "assert res[1] == \"triest\" or res[1] == \"triethanalomine\"\n",
        "\n",
        "assert \"boys and girls club of conyers georgia\" \\\n",
        "            in complete_user_query(\"boys girls club conyers\", aol_trie, 10), \"Should be here\""
      ]
    },
    {
      "cell_type": "markdown",
      "metadata": {
        "id": "3NPwn2KkiMhp"
      },
      "source": [
        "## 3. Measure suggest speed ##\n",
        "\n",
        "### 3.1. [10] Full Trie test\n",
        "\n",
        "Check how fast your search is working. Consider changing your code if it takes too long on average.\n",
        "\n",
        "Sucess criterion:\n",
        "- there is an average and a standard deviation for **multiple runs** of the given bucket.\n",
        "- there is an average and a standard deviation for **multiple runs** of naive search in the unindexed dataset."
      ]
    },
    {
      "cell_type": "code",
      "execution_count": 63,
      "metadata": {},
      "outputs": [],
      "source": [
        "import time\n",
        "def measure_exectime_in_ms(func, *args, **kwargs) -> float:\n",
        "    start_time = time.time()\n",
        "    func(*args, **kwargs)\n",
        "    end_time = time.time()\n",
        "    return (end_time-start_time) * 1000"
      ]
    },
    {
      "cell_type": "code",
      "execution_count": 64,
      "metadata": {},
      "outputs": [],
      "source": [
        "def average(miliseconds:list)->float:\n",
        "    return sum(miliseconds) / len(miliseconds)"
      ]
    },
    {
      "cell_type": "code",
      "execution_count": 67,
      "metadata": {},
      "outputs": [],
      "source": [
        "def naive_search(data: pd.DataFrame, query: str):\n",
        "    results = []\n",
        "    for row_query in data[\"Query\"].tolist():\n",
        "        if row_query.startswith(query):\n",
        "            results.append(row_query)\n",
        "    \n",
        "    return results"
      ]
    },
    {
      "cell_type": "code",
      "execution_count": 68,
      "metadata": {
        "id": "sMatqBXpiMhq"
      },
      "outputs": [
        {
          "name": "stdout",
          "output_type": "stream",
          "text": [
            "Trie - average execution time: 17.5582 ms - query='inf'\n",
            "Trie - standev execution time: 0.9066 ms - query='inf'\n",
            "Trie - average execution time: 29.8549 ms - query='the best '\n",
            "Trie - standev execution time: 3.8670 ms - query='the best '\n",
            "Trie - average execution time: 0.0000 ms - query='information retrieval'\n",
            "Trie - standev execution time: 0.0000 ms - query='information retrieval'\n",
            "Trie - average execution time: 0.0000 ms - query='sherlock hol'\n",
            "Trie - standev execution time: 0.0000 ms - query='sherlock hol'\n",
            "Trie - average execution time: 0.0000 ms - query='carnegie mell'\n",
            "Trie - standev execution time: 0.0000 ms - query='carnegie mell'\n",
            "Trie - average execution time: 0.3507 ms - query='babies r'\n",
            "Trie - standev execution time: 0.4803 ms - query='babies r'\n",
            "Trie - average execution time: 15.9065 ms - query='new york'\n",
            "Trie - standev execution time: 0.1981 ms - query='new york'\n",
            "Trie - average execution time: 0.0000 ms - query='googol'\n",
            "Trie - standev execution time: 0.0000 ms - query='googol'\n",
            "Trie - average execution time: 24.7976 ms - query='inter'\n",
            "Trie - standev execution time: 0.8477 ms - query='inter'\n",
            "Trie - average execution time: 0.0000 ms - query='USA sta'\n",
            "Trie - standev execution time: 0.0000 ms - query='USA sta'\n",
            "Trie - average execution time: 1.4421 ms - query='Barbara '\n",
            "Trie - standev execution time: 0.4589 ms - query='Barbara '\n",
            "\n",
            "\n",
            "Naive search - average execution time: 379.3550 ms - query='inf'\n",
            "Naive search - standev execution time: 4.8228 ms - query='inf'\n",
            "Naive search - average execution time: 378.7097 ms - query='the best '\n",
            "Naive search - standev execution time: 5.2292 ms - query='the best '\n",
            "Naive search - average execution time: 346.8704 ms - query='information retrieval'\n",
            "Naive search - standev execution time: 4.8946 ms - query='information retrieval'\n",
            "Naive search - average execution time: 366.7817 ms - query='sherlock hol'\n",
            "Naive search - standev execution time: 2.1567 ms - query='sherlock hol'\n",
            "Naive search - average execution time: 378.2883 ms - query='carnegie mell'\n",
            "Naive search - standev execution time: 22.3006 ms - query='carnegie mell'\n",
            "Naive search - average execution time: 372.9702 ms - query='babies r'\n",
            "Naive search - standev execution time: 2.9947 ms - query='babies r'\n",
            "Naive search - average execution time: 369.7114 ms - query='new york'\n",
            "Naive search - standev execution time: 1.1876 ms - query='new york'\n",
            "Naive search - average execution time: 403.4928 ms - query='googol'\n",
            "Naive search - standev execution time: 35.8989 ms - query='googol'\n",
            "Naive search - average execution time: 380.4492 ms - query='inter'\n",
            "Naive search - standev execution time: 4.8635 ms - query='inter'\n",
            "Naive search - average execution time: 370.4148 ms - query='USA sta'\n",
            "Naive search - standev execution time: 1.8007 ms - query='USA sta'\n",
            "Naive search - average execution time: 375.1007 ms - query='Barbara '\n",
            "Naive search - standev execution time: 2.6171 ms - query='Barbara '\n"
          ]
        }
      ],
      "source": [
        "import statistics\n",
        "inp_queries = [\"inf\", \"the best \", \"information retrieval\", \"sherlock hol\", \"carnegie mell\",\n",
        "               \"babies r\", \"new york\", \"googol\", \"inter\", \"USA sta\", \"Barbara \"]\n",
        "\n",
        "n_runs = 5\n",
        "\n",
        "for query in inp_queries:\n",
        "    excetime = [measure_exectime_in_ms(complete_user_query, query, aol_trie) for _ in range(n_runs)]\n",
        "    print(f\"Trie - average execution time: {format(average(excetime), '.4f')} ms - {query=}\")\n",
        "    print(f\"Trie - standev execution time: {format(statistics.stdev(excetime), '.4f')} ms - {query=}\")\n",
        "\n",
        "print(\"\\n\")\n",
        "\n",
        "for query in inp_queries:\n",
        "    excetime = [measure_exectime_in_ms(naive_search, aol_data, query) for _ in range(n_runs)]\n",
        "    print(f\"Naive search - average execution time: {format(average(excetime), '.4f')} ms - {query=}\")\n",
        "    print(f\"Naive search - standev execution time: {format(statistics.stdev(excetime), '.4f')} ms - {query=}\")\n",
        "\n",
        "\n",
        "#TODO: measure average execution time and standard deviation (in milliseconds) per query and print it out\n",
        "# Repeat this for index and for no index."
      ]
    },
    {
      "cell_type": "markdown",
      "metadata": {
        "id": "0a22hHKqiMhr"
      },
      "source": [
        "## 4. [10] Add spellchecking to your suggest\n",
        "\n",
        "Try to make your search results as close as possible. Compare top-5 results of each query with top-5 results for corrected.\n",
        "\n",
        "You can use use [pyspellchecker](https://pypi.org/project/pyspellchecker/) `candidates()` call, or use any other spellchecker implementation."
      ]
    },
    {
      "cell_type": "code",
      "execution_count": null,
      "metadata": {
        "id": "mmzVAaC_pEwc"
      },
      "outputs": [],
      "source": [
        "!pip install pyspellchecker"
      ]
    },
    {
      "cell_type": "code",
      "execution_count": 106,
      "metadata": {
        "id": "xmp1Sg95iMhr"
      },
      "outputs": [],
      "source": [
        "from spellchecker import SpellChecker\n",
        "from itertools import product\n",
        "\n",
        "def complete_user_query_with_spellchecker(query:str, trie:pygtrie.CharTrie, top_k=5) -> List[str]:\n",
        "    checker = SpellChecker(language='en')\n",
        "    query = query.lower()\n",
        "    tokens = query.split()\n",
        "    words = [token for token in tokens if token.isalnum()]\n",
        "    wrong_words = list(checker.unknown(words))\n",
        "    wrong_words_candidates = []\n",
        "    for word in wrong_words:\n",
        "        candidates = list(checker.candidates(word)) + [word]\n",
        "        wrong_words_candidates.append(candidates)\n",
        "\n",
        "    wrong_words_candidates = list(product(*wrong_words_candidates))\n",
        "    suggestions = []\n",
        "    for candidates in wrong_words_candidates:\n",
        "        fixed = tokens\n",
        "        for wrong, fix in zip(wrong_words, candidates):\n",
        "            if wrong in fixed:\n",
        "                fixed = [fix if token == wrong else token for token in fixed]\n",
        "        suggestions.append(' '.join(fixed))\n",
        "\n",
        "\n",
        "    suggestions_results = [process_user_query(suggestion, trie) for suggestion in suggestions]\n",
        "\n",
        "    results = [result for suggestion_results in suggestions_results for result in suggestion_results]\n",
        "\n",
        "    results = sorted(results, key=lambda x: -x[1])\n",
        "\n",
        "    unique_results = []\n",
        "    for result in results:\n",
        "        if len(unique_results) == top_k:\n",
        "            break\n",
        "        \n",
        "        if result[0] not in unique_results:\n",
        "            unique_results.append(result[0])\n",
        "    return unique_results\n"
      ]
    },
    {
      "cell_type": "code",
      "execution_count": 108,
      "metadata": {
        "id": "0mCccqPOiMhr"
      },
      "outputs": [],
      "source": [
        "inp_queries = [\"inormation retrieval\", \"shelrock hol\", \"carnagie mell\", \"babis r\", \"Barrbara \"]\n",
        "inp_queries_corrected = [\"information retrieval\", \"sherlock hol\", \"carnegie mell\", \"babies r\", \"Barbara \"]\n",
        "\n",
        "for q, qc in zip(inp_queries, inp_queries_corrected):\n",
        "    res1 = complete_user_query(qc, aol_trie, 5)\n",
        "    res2 = complete_user_query_with_spellchecker(q, aol_trie, 5)\n",
        "    assert  res1 == res2, \"Assert {} and {} give different results\".format(q, qc)\n"
      ]
    }
  ],
  "metadata": {
    "colab": {
      "provenance": []
    },
    "kernelspec": {
      "display_name": "Python 3 (ipykernel)",
      "language": "python",
      "name": "python3"
    },
    "language_info": {
      "codemirror_mode": {
        "name": "ipython",
        "version": 3
      },
      "file_extension": ".py",
      "mimetype": "text/x-python",
      "name": "python",
      "nbconvert_exporter": "python",
      "pygments_lexer": "ipython3",
      "version": "3.11.3"
    }
  },
  "nbformat": 4,
  "nbformat_minor": 0
}
